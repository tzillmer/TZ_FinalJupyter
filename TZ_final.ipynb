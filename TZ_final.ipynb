{
 "cells": [
  {
   "cell_type": "markdown",
   "id": "257bd804-af93-433a-bc86-9f50401f1320",
   "metadata": {},
   "source": [
    "# Data Science Tools and Ecosystem"
   ]
  },
  {
   "cell_type": "markdown",
   "id": "764b872a-afd8-472d-9a58-62be2470e7bb",
   "metadata": {},
   "source": [
    "In this notebook, Data Science Tools and Ecosystem are summarized."
   ]
  },
  {
   "cell_type": "markdown",
   "id": "f99a2911-207a-4d8e-acae-28b3047ea44f",
   "metadata": {},
   "source": [
    "**Objectives:**\n",
    "+ List some popular DS languages\n",
    "+ List some popular DS libraries\n",
    "+ List some popular open-source DS tools\n",
    "+ Demonstrate simple arithmetic functions with Python"
   ]
  },
  {
   "cell_type": "markdown",
   "id": "9afde42d-521c-4886-996f-398871011a0d",
   "metadata": {},
   "source": [
    "Some of the popular languages used by data scientists include:\n",
    "1. Python\n",
    "2. SQL\n",
    "3. R"
   ]
  },
  {
   "cell_type": "markdown",
   "id": "53e83c55-2f71-47d4-be67-d1586d0ae6bb",
   "metadata": {},
   "source": [
    "Some of the popular libraries used with these languages include:\n",
    "1. Pandas (Python)\n",
    "2. Matplotlib (Python)\n",
    "3. dplyr (R)\n",
    "4. ggplot (R)"
   ]
  },
  {
   "cell_type": "markdown",
   "id": "33096202-41d1-415a-9fc3-8c94c3b419d9",
   "metadata": {},
   "source": [
    "| Data Science Tools |\n",
    "|--------------------|\n",
    "| MySQL |\n",
    "| Apache AirFlow |\n",
    "| GitHub |"
   ]
  },
  {
   "cell_type": "markdown",
   "id": "f677f1ad-bce9-4b8f-98b6-94ff3e1e7d83",
   "metadata": {},
   "source": [
    "### Below are a few examples of evaluating arithmetic expressions in Python"
   ]
  },
  {
   "cell_type": "code",
   "execution_count": 1,
   "id": "74e8e401-e104-463e-951f-10906f32f4a4",
   "metadata": {},
   "outputs": [
    {
     "data": {
      "text/plain": [
       "17"
      ]
     },
     "execution_count": 1,
     "metadata": {},
     "output_type": "execute_result"
    }
   ],
   "source": [
    "# A simple arithmetic expression to multiply and then add integers\n",
    "\n",
    "(3*4)+5"
   ]
  },
  {
   "cell_type": "code",
   "execution_count": 2,
   "id": "0574dc41-83dd-424c-923c-9c9d3a1a6015",
   "metadata": {},
   "outputs": [
    {
     "data": {
      "text/plain": [
       "3.3333333333333335"
      ]
     },
     "execution_count": 2,
     "metadata": {},
     "output_type": "execute_result"
    }
   ],
   "source": [
    "# An expression to convert 200 minutes to hours by dividing by 60\n",
    "\n",
    "200/60"
   ]
  },
  {
   "cell_type": "markdown",
   "id": "87512653-5afd-403b-9530-6726593274e2",
   "metadata": {},
   "source": [
    "## Author\n",
    "Tyler Zillmer"
   ]
  },
  {
   "cell_type": "code",
   "execution_count": null,
   "id": "94c24cf3-85ad-4114-ad4f-15515bca011e",
   "metadata": {},
   "outputs": [],
   "source": []
  }
 ],
 "metadata": {
  "kernelspec": {
   "display_name": "Python 3 (ipykernel)",
   "language": "python",
   "name": "python3"
  },
  "language_info": {
   "codemirror_mode": {
    "name": "ipython",
    "version": 3
   },
   "file_extension": ".py",
   "mimetype": "text/x-python",
   "name": "python",
   "nbconvert_exporter": "python",
   "pygments_lexer": "ipython3",
   "version": "3.11.7"
  }
 },
 "nbformat": 4,
 "nbformat_minor": 5
}
